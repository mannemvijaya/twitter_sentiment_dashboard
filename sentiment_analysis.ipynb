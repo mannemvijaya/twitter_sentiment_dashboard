{
 "cells": [
  {
   "cell_type": "code",
   "execution_count": 11,
   "id": "d3f7d53b-3dd5-4c33-a049-51fb6c02ba73",
   "metadata": {},
   "outputs": [
    {
     "name": "stdout",
     "output_type": "stream",
     "text": [
      "Requirement already satisfied: nltk in c:\\users\\home\\anaconda3\\lib\\site-packages (3.9.1)\n",
      "Requirement already satisfied: click in c:\\users\\home\\anaconda3\\lib\\site-packages (from nltk) (8.1.7)\n",
      "Requirement already satisfied: joblib in c:\\users\\home\\anaconda3\\lib\\site-packages (from nltk) (1.4.2)\n",
      "Requirement already satisfied: regex>=2021.8.3 in c:\\users\\home\\anaconda3\\lib\\site-packages (from nltk) (2024.9.11)\n",
      "Requirement already satisfied: tqdm in c:\\users\\home\\anaconda3\\lib\\site-packages (from nltk) (4.66.5)\n",
      "Requirement already satisfied: colorama in c:\\users\\home\\appdata\\roaming\\python\\python312\\site-packages (from click->nltk) (0.4.6)\n"
     ]
    },
    {
     "name": "stderr",
     "output_type": "stream",
     "text": [
      "[nltk_data] Downloading package vader_lexicon to\n",
      "[nltk_data]     C:\\Users\\Home\\AppData\\Roaming\\nltk_data...\n",
      "[nltk_data]   Package vader_lexicon is already up-to-date!\n"
     ]
    }
   ],
   "source": [
    "## Step 1: Install & Setup NLTK + VADER\n",
    "\n",
    "!pip install nltk\n",
    "import nltk\n",
    "nltk.download('vader_lexicon')\n",
    "\n",
    "from nltk.sentiment import SentimentIntensityAnalyzer\n",
    "sia = SentimentIntensityAnalyzer()\n"
   ]
  },
  {
   "cell_type": "code",
   "execution_count": null,
   "id": "a726ad82-b2f6-4fa4-b77e-83f9b8bee3fc",
   "metadata": {},
   "outputs": [],
   "source": [
    "🔹 Step 2: Define a Text Cleaning Function 🧼"
   ]
  },
  {
   "cell_type": "code",
   "execution_count": 6,
   "id": "cdbe4380-f0df-4123-bda4-35d963c850e6",
   "metadata": {},
   "outputs": [],
   "source": [
    "import re\n",
    "\n",
    "def clean_text(text):\n",
    "    text = re.sub(r\"http\\S+\", \"\", text)     # remove links\n",
    "    text = re.sub(r\"@\\w+\", \"\", text)        # remove mentions\n",
    "    text = re.sub(r\"#\", \"\", text)           # remove hashtag symbol\n",
    "    text = re.sub(r\"[^\\w\\s]\", \"\", text)     # remove punctuation\n",
    "    return text.lower().strip()\n"
   ]
  },
  {
   "cell_type": "code",
   "execution_count": null,
   "id": "d76349ad-7148-4f1c-9d83-861f8cfaec14",
   "metadata": {},
   "outputs": [],
   "source": [
    "🔹 Step 3: Apply Cleaning + Sentiment Analysis"
   ]
  },
  {
   "cell_type": "code",
   "execution_count": 7,
   "id": "de833954-5a6b-4c4e-8354-b815eacec182",
   "metadata": {},
   "outputs": [],
   "source": [
    "# For ChatGPT4o\n",
    "df['cleaned_text'] = df['text'].apply(clean_text)\n",
    "df['sentiment_score'] = df['cleaned_text'].apply(lambda x: sia.polarity_scores(x)['compound'])\n",
    "df['sentiment'] = df['sentiment_score'].apply(lambda s: 'positive' if s > 0.05 else 'negative' if s < -0.05 else 'neutral')\n"
   ]
  },
  {
   "cell_type": "code",
   "execution_count": 8,
   "id": "868d261a-8876-44e5-90ab-05d990968cfa",
   "metadata": {},
   "outputs": [],
   "source": [
    "# For IT Layoffs\n",
    "df_it['cleaned_text'] = df_it['text'].apply(clean_text)\n",
    "df_it['sentiment_score'] = df_it['cleaned_text'].apply(lambda x: sia.polarity_scores(x)['compound'])\n",
    "df_it['sentiment'] = df_it['sentiment_score'].apply(lambda s: 'positive' if s > 0.05 else 'negative' if s < -0.05 else 'neutral')\n"
   ]
  },
  {
   "cell_type": "code",
   "execution_count": 9,
   "id": "24aee151-8b97-4a16-b3ee-305590294509",
   "metadata": {},
   "outputs": [],
   "source": [
    "# For TCS Brand\n",
    "df_tcs['cleaned_text'] = df_tcs['text'].apply(clean_text)\n",
    "df_tcs['sentiment_score'] = df_tcs['cleaned_text'].apply(lambda x: sia.polarity_scores(x)['compound'])\n",
    "df_tcs['sentiment'] = df_tcs['sentiment_score'].apply(lambda s: 'positive' if s > 0.05 else 'negative' if s < -0.05 else 'neutral')\n"
   ]
  },
  {
   "cell_type": "code",
   "execution_count": null,
   "id": "459d9448-ab10-425a-9504-75b40501bbb7",
   "metadata": {},
   "outputs": [],
   "source": [
    "##Save Sentiment CSVs"
   ]
  },
  {
   "cell_type": "code",
   "execution_count": 10,
   "id": "5e280959-89f1-4082-bed1-898a3831556f",
   "metadata": {},
   "outputs": [],
   "source": [
    "df.to_csv(\"../data/chatgpt4o_sentiment.csv\", index=False)\n",
    "df_it.to_csv(\"../data/itlayoffs_sentiment.csv\", index=False)\n",
    "df_tcs.to_csv(\"../data/tcs_sentiment.csv\", index=False)"
   ]
  },
  {
   "cell_type": "code",
   "execution_count": null,
   "id": "9ebb77b1-580f-4ef5-aa90-531ad66d455d",
   "metadata": {},
   "outputs": [],
   "source": []
  }
 ],
 "metadata": {
  "kernelspec": {
   "display_name": "Python 3 (ipykernel)",
   "language": "python",
   "name": "python3"
  },
  "language_info": {
   "codemirror_mode": {
    "name": "ipython",
    "version": 3
   },
   "file_extension": ".py",
   "mimetype": "text/x-python",
   "name": "python",
   "nbconvert_exporter": "python",
   "pygments_lexer": "ipython3",
   "version": "3.12.7"
  }
 },
 "nbformat": 4,
 "nbformat_minor": 5
}
