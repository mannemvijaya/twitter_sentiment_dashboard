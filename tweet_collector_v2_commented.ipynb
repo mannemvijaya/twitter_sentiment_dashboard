{
 "cells": [
  {
   "cell_type": "code",
   "execution_count": 4,
   "id": "093f6c08-c41b-4f5d-ae12-29038a89fc6b",
   "metadata": {},
   "outputs": [
    {
     "name": "stdout",
     "output_type": "stream",
     "text": [
      "Requirement already satisfied: tweepy in c:\\users\\home\\anaconda3\\lib\\site-packages (4.16.0)\n",
      "Requirement already satisfied: pandas in c:\\users\\home\\anaconda3\\lib\\site-packages (2.2.2)\n",
      "Requirement already satisfied: oauthlib<4,>=3.2.0 in c:\\users\\home\\anaconda3\\lib\\site-packages (from tweepy) (3.3.1)\n",
      "Requirement already satisfied: requests<3,>=2.27.0 in c:\\users\\home\\anaconda3\\lib\\site-packages (from tweepy) (2.32.3)\n",
      "Requirement already satisfied: requests-oauthlib<3,>=1.2.0 in c:\\users\\home\\anaconda3\\lib\\site-packages (from tweepy) (2.0.0)\n",
      "Requirement already satisfied: numpy>=1.26.0 in c:\\users\\home\\anaconda3\\lib\\site-packages (from pandas) (1.26.4)\n",
      "Requirement already satisfied: python-dateutil>=2.8.2 in c:\\users\\home\\appdata\\roaming\\python\\python312\\site-packages (from pandas) (2.9.0.post0)\n",
      "Requirement already satisfied: pytz>=2020.1 in c:\\users\\home\\anaconda3\\lib\\site-packages (from pandas) (2024.1)\n",
      "Requirement already satisfied: tzdata>=2022.7 in c:\\users\\home\\anaconda3\\lib\\site-packages (from pandas) (2023.3)\n",
      "Requirement already satisfied: six>=1.5 in c:\\users\\home\\appdata\\roaming\\python\\python312\\site-packages (from python-dateutil>=2.8.2->pandas) (1.16.0)\n",
      "Requirement already satisfied: charset-normalizer<4,>=2 in c:\\users\\home\\anaconda3\\lib\\site-packages (from requests<3,>=2.27.0->tweepy) (3.3.2)\n",
      "Requirement already satisfied: idna<4,>=2.5 in c:\\users\\home\\anaconda3\\lib\\site-packages (from requests<3,>=2.27.0->tweepy) (3.7)\n",
      "Requirement already satisfied: urllib3<3,>=1.21.1 in c:\\users\\home\\anaconda3\\lib\\site-packages (from requests<3,>=2.27.0->tweepy) (2.2.3)\n",
      "Requirement already satisfied: certifi>=2017.4.17 in c:\\users\\home\\anaconda3\\lib\\site-packages (from requests<3,>=2.27.0->tweepy) (2025.4.26)\n"
     ]
    }
   ],
   "source": [
    "# Step 1: Install required libraries\n",
    "!pip install tweepy pandas"
   ]
  },
  {
   "cell_type": "code",
   "execution_count": 5,
   "id": "86871f4d-81d2-49f7-a381-8dc259ff0193",
   "metadata": {},
   "outputs": [],
   "source": [
    "# Step 2: Import required libraries and define folders\n",
    "import tweepy\n",
    "import pandas as pd\n",
    "import os\n",
    "import time\n",
    "from requests.exceptions import ConnectionError\n",
    "from urllib3.exceptions import ProtocolError\n",
    "\n",
    "# 🔐 Paste your actual Bearer Token here\n",
    "bearer_token = \"AAAAAAAAAAAAAAAAAAAAAJW22gEAAAAA20xyNPhvzMsRD4%2Bf2H5aw4AjXKM%3DROULoOBUEBKAQfErZZss3SIDTKIdZC8PdmQiWP9qOEt2T0PRKL\"\n",
    "\n",
    "# Authenticate\n",
    "client = tweepy.Client(bearer_token=bearer_token)\n",
    "\n",
    "# Create the 'data' folder if it doesn't exist\n",
    "os.makedirs(\"../data\", exist_ok=True)"
   ]
  },
  {
   "cell_type": "code",
   "execution_count": 6,
   "id": "9d82356b-1f45-4ada-afc6-3d2bf1a6acf5",
   "metadata": {},
   "outputs": [],
   "source": [
    "# Step 4: Define function to fetch tweets from Twitter\n",
    "def fetch_tweets(query, filename, max_results=20):\n",
    "    try:\n",
    "        tweets = client.search_recent_tweets(\n",
    "            query=query,\n",
    "            tweet_fields=['created_at', 'text', 'lang'],\n",
    "            max_results=max_results\n",
    "        )\n",
    "\n",
    "        tweet_data = []\n",
    "        if tweets.data:\n",
    "            for tweet in tweets.data:\n",
    "                tweet_data.append({\n",
    "                    'created_at': tweet.created_at,\n",
    "                    'text': tweet.text\n",
    "                })\n",
    "\n",
    "            df = pd.DataFrame(tweet_data)\n",
    "            df.to_csv(f\"../data/{filename}.csv\", index=False)\n",
    "            print(f\"✅ {len(df)} tweets saved to {filename}.csv\")\n",
    "            return df\n",
    "        else:\n",
    "            print(\"⚠️ No tweets found.\")\n",
    "            return pd.DataFrame()\n",
    "\n",
    "    except tweepy.TooManyRequests:\n",
    "        print(\"⏳ Rate limit hit. Waiting 15 minutes...\")\n",
    "        time.sleep(900)\n",
    "        return fetch_tweets(query, filename, max_results)\n",
    "\n",
    "    except (ConnectionError, ProtocolError):\n",
    "        print(\"🔁 Connection issue. Retrying in 1 minute...\")\n",
    "        time.sleep(60)\n",
    "        return fetch_tweets(query, filename, max_results)\n",
    "\n",
    "    except Exception as e:\n",
    "        print(f\"❌ Unexpected error: {e}\")\n",
    "        return pd.DataFrame()"
   ]
  },
  {
   "cell_type": "code",
   "execution_count": 7,
   "id": "3ec2cfe9-8c5b-4bf7-a2dc-134e1cfff63b",
   "metadata": {},
   "outputs": [
    {
     "name": "stdout",
     "output_type": "stream",
     "text": [
      "✅ 20 tweets saved to chatgpt4o.csv\n"
     ]
    },
    {
     "data": {
      "text/html": [
       "<div>\n",
       "<style scoped>\n",
       "    .dataframe tbody tr th:only-of-type {\n",
       "        vertical-align: middle;\n",
       "    }\n",
       "\n",
       "    .dataframe tbody tr th {\n",
       "        vertical-align: top;\n",
       "    }\n",
       "\n",
       "    .dataframe thead th {\n",
       "        text-align: right;\n",
       "    }\n",
       "</style>\n",
       "<table border=\"1\" class=\"dataframe\">\n",
       "  <thead>\n",
       "    <tr style=\"text-align: right;\">\n",
       "      <th></th>\n",
       "      <th>created_at</th>\n",
       "      <th>text</th>\n",
       "    </tr>\n",
       "  </thead>\n",
       "  <tbody>\n",
       "    <tr>\n",
       "      <th>0</th>\n",
       "      <td>2025-06-25 02:29:23+00:00</td>\n",
       "      <td>Katy Perry and Rosé together in an iconic mome...</td>\n",
       "    </tr>\n",
       "    <tr>\n",
       "      <th>1</th>\n",
       "      <td>2025-06-25 02:13:52+00:00</td>\n",
       "      <td>Zendaya and Timothée Chalamet in perfect harmo...</td>\n",
       "    </tr>\n",
       "    <tr>\n",
       "      <th>2</th>\n",
       "      <td>2025-06-25 01:18:45+00:00</td>\n",
       "      <td>Wednesday, Jun 25, 2025\\n#AIart #ChatGPT4o #Da...</td>\n",
       "    </tr>\n",
       "    <tr>\n",
       "      <th>3</th>\n",
       "      <td>2025-06-25 01:18:28+00:00</td>\n",
       "      <td>Wednesday, Jun 25, 2025\\n#AIart #ChatGPT4o #Da...</td>\n",
       "    </tr>\n",
       "    <tr>\n",
       "      <th>4</th>\n",
       "      <td>2025-06-24 23:56:36+00:00</td>\n",
       "      <td>✨ Nicola Coughlan as a dream fairy! Glowing in...</td>\n",
       "    </tr>\n",
       "  </tbody>\n",
       "</table>\n",
       "</div>"
      ],
      "text/plain": [
       "                 created_at                                               text\n",
       "0 2025-06-25 02:29:23+00:00  Katy Perry and Rosé together in an iconic mome...\n",
       "1 2025-06-25 02:13:52+00:00  Zendaya and Timothée Chalamet in perfect harmo...\n",
       "2 2025-06-25 01:18:45+00:00  Wednesday, Jun 25, 2025\\n#AIart #ChatGPT4o #Da...\n",
       "3 2025-06-25 01:18:28+00:00  Wednesday, Jun 25, 2025\\n#AIart #ChatGPT4o #Da...\n",
       "4 2025-06-24 23:56:36+00:00  ✨ Nicola Coughlan as a dream fairy! Glowing in..."
      ]
     },
     "execution_count": 7,
     "metadata": {},
     "output_type": "execute_result"
    }
   ],
   "source": [
    "# Step 5: Call the function with your query and save tweets\n",
    "df = fetch_tweets(\"#ChatGPT4o -is:retweet lang:en\", \"chatgpt4o\", max_results=20)\n",
    "df.head()"
   ]
  },
  {
   "cell_type": "code",
   "execution_count": 8,
   "id": "65d53261-760e-42d2-8a85-7d68df49130d",
   "metadata": {},
   "outputs": [
    {
     "name": "stdout",
     "output_type": "stream",
     "text": [
      "⏳ Rate limit hit. Waiting 15 minutes...\n",
      "🔁 Connection issue. Retrying in 1 minute...\n",
      "✅ 4 tweets saved to itlayoffs.csv\n"
     ]
    },
    {
     "data": {
      "text/html": [
       "<div>\n",
       "<style scoped>\n",
       "    .dataframe tbody tr th:only-of-type {\n",
       "        vertical-align: middle;\n",
       "    }\n",
       "\n",
       "    .dataframe tbody tr th {\n",
       "        vertical-align: top;\n",
       "    }\n",
       "\n",
       "    .dataframe thead th {\n",
       "        text-align: right;\n",
       "    }\n",
       "</style>\n",
       "<table border=\"1\" class=\"dataframe\">\n",
       "  <thead>\n",
       "    <tr style=\"text-align: right;\">\n",
       "      <th></th>\n",
       "      <th>created_at</th>\n",
       "      <th>text</th>\n",
       "    </tr>\n",
       "  </thead>\n",
       "  <tbody>\n",
       "    <tr>\n",
       "      <th>0</th>\n",
       "      <td>2025-06-22 07:50:11+00:00</td>\n",
       "      <td>https://t.co/mqp8UN3BxB\\nIBM\\nThread topic:\\nO...</td>\n",
       "    </tr>\n",
       "    <tr>\n",
       "      <th>1</th>\n",
       "      <td>2025-06-19 09:17:38+00:00</td>\n",
       "      <td>https://t.co/tFCN5jC0ty\\nIBM\\nThread topic:\\nB...</td>\n",
       "    </tr>\n",
       "    <tr>\n",
       "      <th>2</th>\n",
       "      <td>2025-06-18 09:54:49+00:00</td>\n",
       "      <td>Resign by 2 PM.\" India’s IT dream is turning i...</td>\n",
       "    </tr>\n",
       "    <tr>\n",
       "      <th>3</th>\n",
       "      <td>2025-06-18 07:47:42+00:00</td>\n",
       "      <td>https://t.co/QzcnnBSYgz\\nIBM\\nThread topic:\\nA...</td>\n",
       "    </tr>\n",
       "  </tbody>\n",
       "</table>\n",
       "</div>"
      ],
      "text/plain": [
       "                 created_at                                               text\n",
       "0 2025-06-22 07:50:11+00:00  https://t.co/mqp8UN3BxB\\nIBM\\nThread topic:\\nO...\n",
       "1 2025-06-19 09:17:38+00:00  https://t.co/tFCN5jC0ty\\nIBM\\nThread topic:\\nB...\n",
       "2 2025-06-18 09:54:49+00:00  Resign by 2 PM.\" India’s IT dream is turning i...\n",
       "3 2025-06-18 07:47:42+00:00  https://t.co/QzcnnBSYgz\\nIBM\\nThread topic:\\nA..."
      ]
     },
     "execution_count": 8,
     "metadata": {},
     "output_type": "execute_result"
    }
   ],
   "source": [
    "# Step 5: Call the function with your query and save tweets\n",
    "df_it = fetch_tweets(\"#ITLayoffs -is:retweet lang:en\", \"itlayoffs\", max_results=20)\n",
    "df_it.head()"
   ]
  },
  {
   "cell_type": "code",
   "execution_count": 9,
   "id": "e0186a46-540e-4981-a315-36a2c1cbd500",
   "metadata": {},
   "outputs": [
    {
     "name": "stdout",
     "output_type": "stream",
     "text": [
      "⏳ Rate limit hit. Waiting 15 minutes...\n",
      "🔁 Connection issue. Retrying in 1 minute...\n",
      "✅ 20 tweets saved to tcs.csv\n"
     ]
    },
    {
     "data": {
      "text/html": [
       "<div>\n",
       "<style scoped>\n",
       "    .dataframe tbody tr th:only-of-type {\n",
       "        vertical-align: middle;\n",
       "    }\n",
       "\n",
       "    .dataframe tbody tr th {\n",
       "        vertical-align: top;\n",
       "    }\n",
       "\n",
       "    .dataframe thead th {\n",
       "        text-align: right;\n",
       "    }\n",
       "</style>\n",
       "<table border=\"1\" class=\"dataframe\">\n",
       "  <thead>\n",
       "    <tr style=\"text-align: right;\">\n",
       "      <th></th>\n",
       "      <th>created_at</th>\n",
       "      <th>text</th>\n",
       "    </tr>\n",
       "  </thead>\n",
       "  <tbody>\n",
       "    <tr>\n",
       "      <th>0</th>\n",
       "      <td>2025-06-25 06:01:41+00:00</td>\n",
       "      <td>@MamataOfficial To Bengal's detractors—the TCS...</td>\n",
       "    </tr>\n",
       "    <tr>\n",
       "      <th>1</th>\n",
       "      <td>2025-06-25 05:56:30+00:00</td>\n",
       "      <td>TCS is leading the way! 🚀\\n\\nAnnounces a massi...</td>\n",
       "    </tr>\n",
       "    <tr>\n",
       "      <th>2</th>\n",
       "      <td>2025-06-25 05:54:52+00:00</td>\n",
       "      <td>IT Sector Breakout Alert!  🚨\\nNifty IT’s head ...</td>\n",
       "    </tr>\n",
       "    <tr>\n",
       "      <th>3</th>\n",
       "      <td>2025-06-25 05:45:47+00:00</td>\n",
       "      <td>#KALYANKJIL 520 CE\\n\\n✅ 39 from 22 💓\\n✅ 20000+...</td>\n",
       "    </tr>\n",
       "    <tr>\n",
       "      <th>4</th>\n",
       "      <td>2025-06-25 05:32:39+00:00</td>\n",
       "      <td>June 25, 2025\\n#ConstructionNews\\n▶️Aurum Alum...</td>\n",
       "    </tr>\n",
       "  </tbody>\n",
       "</table>\n",
       "</div>"
      ],
      "text/plain": [
       "                 created_at                                               text\n",
       "0 2025-06-25 06:01:41+00:00  @MamataOfficial To Bengal's detractors—the TCS...\n",
       "1 2025-06-25 05:56:30+00:00  TCS is leading the way! 🚀\\n\\nAnnounces a massi...\n",
       "2 2025-06-25 05:54:52+00:00  IT Sector Breakout Alert!  🚨\\nNifty IT’s head ...\n",
       "3 2025-06-25 05:45:47+00:00  #KALYANKJIL 520 CE\\n\\n✅ 39 from 22 💓\\n✅ 20000+...\n",
       "4 2025-06-25 05:32:39+00:00  June 25, 2025\\n#ConstructionNews\\n▶️Aurum Alum..."
      ]
     },
     "execution_count": 9,
     "metadata": {},
     "output_type": "execute_result"
    }
   ],
   "source": [
    "# Step 5: Call the function with your query and save tweets\n",
    "df_tcs = fetch_tweets(\"#TCS -is:retweet lang:en\", \"tcs\", max_results=20)\n",
    "df_tcs.head()"
   ]
  }
 ],
 "metadata": {
  "kernelspec": {
   "display_name": "Python 3 (ipykernel)",
   "language": "python",
   "name": "python3"
  },
  "language_info": {
   "codemirror_mode": {
    "name": "ipython",
    "version": 3
   },
   "file_extension": ".py",
   "mimetype": "text/x-python",
   "name": "python",
   "nbconvert_exporter": "python",
   "pygments_lexer": "ipython3",
   "version": "3.12.7"
  }
 },
 "nbformat": 4,
 "nbformat_minor": 5
}
