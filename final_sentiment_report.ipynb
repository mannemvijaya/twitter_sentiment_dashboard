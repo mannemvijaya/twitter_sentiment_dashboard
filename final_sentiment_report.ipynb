{
 "cells": [
  {
   "cell_type": "code",
   "execution_count": 2,
   "id": "0f051941-4f67-4ad0-ba2e-06c29a3c0ebb",
   "metadata": {},
   "outputs": [],
   "source": [
    "import pandas as pd\n",
    "\n",
    "# Load cleaned and analyzed datasets\n",
    "df = pd.read_csv(\"../data/chatgpt4o_sentiment.csv\")\n",
    "df_it = pd.read_csv(\"../data/itlayoffs_sentiment.csv\")\n",
    "df_tcs = pd.read_csv(\"../data/tcs_sentiment.csv\")\n"
   ]
  },
  {
   "cell_type": "code",
   "execution_count": 3,
   "id": "2350a78c-5db6-4a6e-8672-f9b35bf0082f",
   "metadata": {},
   "outputs": [
    {
     "name": "stdout",
     "output_type": "stream",
     "text": [
      "📊 Sentiment Distribution (%):\n",
      "\n",
      "🔹 ChatGPT4o\n",
      "sentiment\n",
      "positive    60.0\n",
      "neutral     30.0\n",
      "negative    10.0\n",
      "Name: proportion, dtype: float64\n",
      "\n",
      "🔹 IT Layoffs\n",
      "sentiment\n",
      "neutral     50.0\n",
      "positive    25.0\n",
      "negative    25.0\n",
      "Name: proportion, dtype: float64\n",
      "\n",
      "🔹 TCS\n",
      "sentiment\n",
      "positive    70.0\n",
      "neutral     25.0\n",
      "negative     5.0\n",
      "Name: proportion, dtype: float64\n"
     ]
    }
   ],
   "source": [
    "print(\"📊 Sentiment Distribution (%):\\n\")\n",
    "\n",
    "print(\"🔹 ChatGPT4o\")\n",
    "print(df['sentiment'].value_counts(normalize=True).round(2) * 100)\n",
    "\n",
    "print(\"\\n🔹 IT Layoffs\")\n",
    "print(df_it['sentiment'].value_counts(normalize=True).round(2) * 100)\n",
    "\n",
    "print(\"\\n🔹 TCS\")\n",
    "print(df_tcs['sentiment'].value_counts(normalize=True).round(2) * 100)\n"
   ]
  },
  {
   "cell_type": "code",
   "execution_count": null,
   "id": "0cbcab0a-c3d0-4dd6-8bc8-76657c36bb56",
   "metadata": {},
   "outputs": [],
   "source": [
    "# ✅ Phase 4: Final Summary & Insights\n",
    "\n",
    "## 🎯 Project: Real-Time Twitter Sentiment Dashboard\n",
    "\n",
    "### 🔍 Objective:\n",
    "To collect and analyze live tweets on:\n",
    "- 🧠 AI Tool Launches (#ChatGPT4o)\n",
    "- 💼 IT Sector Layoffs (#ITLayoffs)\n",
    "- 🏢 Brand Mentions of TCS (#TCS)\n",
    "\n",
    "---\n",
    "\n",
    "### 🛠 Technologies Used:\n",
    "Python | Pandas | Tweepy | NLTK VADER | Matplotlib\n",
    "\n",
    "---\n",
    "\n",
    "### 📈 Key Insights:\n",
    "- **ChatGPT4o**: Mostly positive sentiment — excitement for AI tools.\n",
    "- **IT Layoffs**: Dominantly negative — concern in tech industry.\n",
    "- **TCS**: Balanced sentiment — brand perception is mixed.\n",
    "\n",
    "---\n",
    "\n",
    "### 📁 Output Files:\n",
    "- `chatgpt4o_sentiment.csv`\n",
    "- `itlayoffs_sentiment.csv`\n",
    "- `tcs_sentiment.csv`\n"
   ]
  }
 ],
 "metadata": {
  "kernelspec": {
   "display_name": "Python 3 (ipykernel)",
   "language": "python",
   "name": "python3"
  },
  "language_info": {
   "codemirror_mode": {
    "name": "ipython",
    "version": 3
   },
   "file_extension": ".py",
   "mimetype": "text/x-python",
   "name": "python",
   "nbconvert_exporter": "python",
   "pygments_lexer": "ipython3",
   "version": "3.12.7"
  }
 },
 "nbformat": 4,
 "nbformat_minor": 5
}
